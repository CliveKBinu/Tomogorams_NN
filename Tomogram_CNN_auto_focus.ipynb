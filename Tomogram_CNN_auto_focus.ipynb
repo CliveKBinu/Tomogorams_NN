{
 "cells": [
  {
   "cell_type": "code",
   "execution_count": 2,
   "metadata": {},
   "outputs": [],
   "source": [
    "import matplotlib.pyplot as plt\n",
    "import numpy as np\n",
    "import os\n",
    "import PIL\n",
    "import tensorflow as tf\n",
    "\n",
    "from tensorflow import keras\n",
    "from tensorflow.keras import layers\n",
    "from tensorflow.keras.models import Sequential\n",
    "from tensorflow.keras.preprocessing.image import ImageDataGenerator\n",
    "from tensorflow.keras.preprocessing import image\n",
    "from collections import Counter\n",
    "\n"
   ]
  },
  {
   "cell_type": "code",
   "execution_count": 3,
   "metadata": {},
   "outputs": [
    {
     "name": "stdout",
     "output_type": "stream",
     "text": [
      "Found 6868 images belonging to 2 classes.\n",
      "Found 103 images belonging to 2 classes.\n"
     ]
    }
   ],
   "source": [
    "generator = ImageDataGenerator(rescale=1/255)\n",
    "\n",
    "#generator = ImageDataGenerator(rescale=1/255)\n",
    "\n",
    "#Test_generator = ImageDataGenerator()\n",
    "\n",
    "\n",
    "IMAGE_WIDTH=IMAGE_HEIGHT=150\n",
    "\n",
    "train_dataset = generator.flow_from_directory(\"F:/Research/Tomograms interpolation\",\n",
    "                                          target_size=(150,150),\n",
    "                                          batch_size = 32,\n",
    "                                          #color_mode = 'rgb',\n",
    "                                          class_mode = 'binary',\n",
    "                                          subset = 'training',\n",
    "                                          shuffle=True,\n",
    "                                          seed = 42\n",
    "                                         )\n",
    "                                   \n",
    "val_dataset = generator.flow_from_directory(\"F:/Research/val\",\n",
    "                                          target_size=(150,150),\n",
    "                                          batch_size =32,\n",
    "                                          #color_mode = 'rgb',\n",
    "                                          #subset = 'validation',\n",
    "                                          class_mode = 'binary')\n",
    "\n",
    "#Test_dataset = Test_generator.flow_from_directory('F:/Research/val',target_size=(150,150))\n"
   ]
  },
  {
   "cell_type": "code",
   "execution_count": 14,
   "metadata": {},
   "outputs": [
    {
     "name": "stdout",
     "output_type": "stream",
     "text": [
      "{'infocus': 0, 'outfocus': 1}\n"
     ]
    }
   ],
   "source": [
    "print(train_dataset.class_indices)"
   ]
  },
  {
   "cell_type": "code",
   "execution_count": 21,
   "metadata": {},
   "outputs": [],
   "source": [
    "num_classes = 2\n",
    "from tensorflow.keras.models import Sequential\n",
    "from tensorflow.keras import regularizers\n",
    "\n",
    "\n",
    "img_height=img_width=150\n",
    "\n",
    "\n",
    "model = Sequential([\n",
    "    layers.experimental.preprocessing.RandomFlip(\"horizontal\", \n",
    "                                                 input_shape=(img_height, \n",
    "                                                              img_width,\n",
    "                                                              3),seed=42),\n",
    "    layers.experimental.preprocessing.RandomRotation(0.1,seed=42),\n",
    "    layers.experimental.preprocessing.RandomZoom(0.1,seed=42),\n",
    "  ])\n",
    "\n",
    "model.add(keras.layers.Conv2D(32,(3,3),activation='relu',input_shape=(150,150,3)))\n",
    "model.add(keras.layers.MaxPool2D(2,2))\n",
    "\n",
    "# Convolutional layer and maxpool layer 2\n",
    "model.add(keras.layers.Conv2D(64,(3,3),activation='relu'))\n",
    "model.add(keras.layers.MaxPool2D(2,2))\n",
    "\n",
    "\n",
    "\n",
    "# Convolutional layer and maxpool layer 3\n",
    "model.add(keras.layers.Conv2D(64,(3,3),activation='relu',kernel_regularizer=regularizers.l2(1e-1)))\n",
    "model.add(keras.layers.MaxPool2D(2,2))\n",
    "model.add(keras.layers.Dropout(0.9))\n",
    "\n",
    "\n",
    "# Convolutional layer and maxpool layer 4\n",
    "#model.add(keras.layers.Conv2D(128,(3,3),activation='relu'))\n",
    "#model.add(keras.layers.MaxPool2D(2,2))\n",
    "\n",
    "# This layer flattens the resulting image array to 1D array\n",
    "model.add(keras.layers.Flatten())\n",
    "\n",
    "# Hidden layer with 512 neurons and Rectified Linear Unit activation function \n",
    "model.add(keras.layers.Dense(80,activation='relu'))\n",
    "\n",
    "# Output layer with single neuron which gives 0 for Cat or 1 for Dog \n",
    "#Here we use sigmoid activation function which makes our model output to lie between 0 and 1\n",
    "model.add(keras.layers.Dense(1,activation='sigmoid'))"
   ]
  },
  {
   "cell_type": "code",
   "execution_count": 22,
   "metadata": {},
   "outputs": [
    {
     "name": "stdout",
     "output_type": "stream",
     "text": [
      "Model: \"sequential_2\"\n",
      "_________________________________________________________________\n",
      "Layer (type)                 Output Shape              Param #   \n",
      "=================================================================\n",
      "random_flip_2 (RandomFlip)   (None, 150, 150, 3)       0         \n",
      "_________________________________________________________________\n",
      "random_rotation_2 (RandomRot (None, 150, 150, 3)       0         \n",
      "_________________________________________________________________\n",
      "random_zoom_2 (RandomZoom)   (None, 150, 150, 3)       0         \n",
      "_________________________________________________________________\n",
      "conv2d_6 (Conv2D)            (None, 148, 148, 32)      896       \n",
      "_________________________________________________________________\n",
      "max_pooling2d_6 (MaxPooling2 (None, 74, 74, 32)        0         \n",
      "_________________________________________________________________\n",
      "conv2d_7 (Conv2D)            (None, 72, 72, 64)        18496     \n",
      "_________________________________________________________________\n",
      "max_pooling2d_7 (MaxPooling2 (None, 36, 36, 64)        0         \n",
      "_________________________________________________________________\n",
      "conv2d_8 (Conv2D)            (None, 34, 34, 64)        36928     \n",
      "_________________________________________________________________\n",
      "max_pooling2d_8 (MaxPooling2 (None, 17, 17, 64)        0         \n",
      "_________________________________________________________________\n",
      "dropout_2 (Dropout)          (None, 17, 17, 64)        0         \n",
      "_________________________________________________________________\n",
      "flatten_2 (Flatten)          (None, 18496)             0         \n",
      "_________________________________________________________________\n",
      "dense_4 (Dense)              (None, 80)                1479760   \n",
      "_________________________________________________________________\n",
      "dense_5 (Dense)              (None, 1)                 81        \n",
      "=================================================================\n",
      "Total params: 1,536,161\n",
      "Trainable params: 1,536,161\n",
      "Non-trainable params: 0\n",
      "_________________________________________________________________\n"
     ]
    }
   ],
   "source": [
    "model.summary()"
   ]
  },
  {
   "cell_type": "code",
   "execution_count": 23,
   "metadata": {},
   "outputs": [],
   "source": [
    "model.compile(optimizer='adam',\n",
    "              loss='binary_crossentropy',\n",
    "              metrics=['accuracy'])"
   ]
  },
  {
   "cell_type": "code",
   "execution_count": 24,
   "metadata": {},
   "outputs": [
    {
     "name": "stdout",
     "output_type": "stream",
     "text": [
      "Epoch 1/15\n",
      "215/215 [==============================] - 164s 719ms/step - loss: 0.9774 - accuracy: 0.8531 - val_loss: 0.3467 - val_accuracy: 0.7864\n",
      "Epoch 2/15\n",
      "215/215 [==============================] - 49s 229ms/step - loss: 0.2769 - accuracy: 0.8767 - val_loss: 0.3836 - val_accuracy: 0.7864\n",
      "Epoch 3/15\n",
      "215/215 [==============================] - 48s 225ms/step - loss: 0.2646 - accuracy: 0.8850 - val_loss: 0.3429 - val_accuracy: 0.7864\n",
      "Epoch 4/15\n",
      "215/215 [==============================] - 49s 226ms/step - loss: 0.2448 - accuracy: 0.8907 - val_loss: 0.3762 - val_accuracy: 0.8350\n",
      "Epoch 5/15\n",
      "215/215 [==============================] - 49s 226ms/step - loss: 0.2396 - accuracy: 0.8883 - val_loss: 0.3847 - val_accuracy: 0.8252\n",
      "Epoch 6/15\n",
      "215/215 [==============================] - 49s 226ms/step - loss: 0.2322 - accuracy: 0.8998 - val_loss: 0.3914 - val_accuracy: 0.8350: 0.231 - ETA: 2s - loss: 0 - ETA: 0s - loss: 0.2320 - accuracy: 0.\n",
      "Epoch 7/15\n",
      "215/215 [==============================] - 48s 224ms/step - loss: 0.2242 - accuracy: 0.9022 - val_loss: 0.3576 - val_accuracy: 0.8350\n",
      "Epoch 8/15\n",
      "215/215 [==============================] - 48s 224ms/step - loss: 0.2169 - accuracy: 0.9075 - val_loss: 0.4119 - val_accuracy: 0.8252\n",
      "Epoch 9/15\n",
      "215/215 [==============================] - 48s 224ms/step - loss: 0.2042 - accuracy: 0.9158 - val_loss: 0.4166 - val_accuracy: 0.8350\n",
      "Epoch 10/15\n",
      "215/215 [==============================] - 48s 224ms/step - loss: 0.1977 - accuracy: 0.9177 - val_loss: 0.3718 - val_accuracy: 0.8252\n",
      "Epoch 11/15\n",
      "215/215 [==============================] - 48s 224ms/step - loss: 0.1936 - accuracy: 0.9160 - val_loss: 0.4577 - val_accuracy: 0.8252\n",
      "Epoch 12/15\n",
      "215/215 [==============================] - 48s 224ms/step - loss: 0.1963 - accuracy: 0.9182 - val_loss: 0.3639 - val_accuracy: 0.8447\n",
      "Epoch 13/15\n",
      "215/215 [==============================] - 48s 224ms/step - loss: 0.1912 - accuracy: 0.9173 - val_loss: 0.4094 - val_accuracy: 0.8350\n",
      "Epoch 14/15\n",
      "215/215 [==============================] - 48s 224ms/step - loss: 0.1840 - accuracy: 0.9198 - val_loss: 0.3946 - val_accuracy: 0.8447\n",
      "Epoch 15/15\n",
      "215/215 [==============================] - 49s 227ms/step - loss: 0.1820 - accuracy: 0.9202 - val_loss: 0.4287 - val_accuracy: 0.8252\n"
     ]
    }
   ],
   "source": [
    "epochs = 15\n",
    "history = model.fit(\n",
    "  train_dataset,\n",
    "  validation_data=val_dataset,\n",
    "  epochs=epochs\n",
    ")"
   ]
  },
  {
   "cell_type": "code",
   "execution_count": 25,
   "metadata": {},
   "outputs": [],
   "source": [
    "acc = history.history['accuracy']\n",
    "val_acc = history.history['val_accuracy']\n",
    "\n",
    "loss = history.history['loss']\n",
    "val_loss = history.history['val_loss']\n",
    "\n",
    "epochs_range = range(epochs)\n"
   ]
  },
  {
   "cell_type": "code",
   "execution_count": 26,
   "metadata": {},
   "outputs": [
    {
     "data": {
      "image/png": "[encoded data removed]",
      "text/plain": [
       "<Figure size 1152x576 with 2 Axes>"
      ]
     },
     "metadata": {
      "needs_background": "light"
     },
     "output_type": "display_data"
    }
   ],
   "source": [
    "plt.figure(figsize=(16, 8))\n",
    "plt.subplot(1, 2, 1)\n",
    "plt.plot(epochs_range, acc, label='Training Accuracy')\n",
    "plt.plot(epochs_range, val_acc, label='Validation Accuracy')\n",
    "plt.legend(loc='lower right')\n",
    "plt.title('Training and Validation Accuracy')\n",
    "\n",
    "plt.subplot(1, 2, 2)\n",
    "plt.plot(epochs_range, loss, label='Training Loss')\n",
    "plt.plot(epochs_range, val_loss, label='Validation Loss')\n",
    "plt.legend(loc='upper right')\n",
    "plt.title('Training and Validation Loss')\n",
    "plt.show()"
   ]
  },
  {
   "cell_type": "code",
   "execution_count": 27,
   "metadata": {},
   "outputs": [],
   "source": [
    "\n",
    "from tensorflow.keras.applications.imagenet_utils import decode_predictions\n",
    "\n",
    "def predictImage(filename):\n",
    "    img1 = image.load_img(filename,target_size=(150,150))\n",
    "    \n",
    "    plt.imshow(img1)\n",
    "    \n",
    "\n",
    "    \n",
    "    Y = image.img_to_array(img1)/255\n",
    "\n",
    "    X = np.expand_dims(Y,axis=0)\n",
    "    \n",
    "    val = model.predict_classes(X)\n",
    "    #val = np.argmax(model.predict(X), axis=-1)\n",
    "    #decode_predictions(val)[0]\n",
    "    print(val)\n",
    "\n",
    "    if val == 0:\n",
    "        \n",
    "        plt.xlabel(\"infocus\",fontsize=30)\n",
    "        \n",
    "    \n",
    "    elif val == 1:\n",
    "        \n",
    "        plt.xlabel(\"outfocus\",fontsize=30)\n"
   ]
  },
  {
   "cell_type": "code",
   "execution_count": 28,
   "metadata": {},
   "outputs": [
    {
     "name": "stderr",
     "output_type": "stream",
     "text": [
      "c:\\users\\clive\\appdata\\local\\programs\\python\\python38\\lib\\site-packages\\tensorflow\\python\\keras\\engine\\sequential.py:455: UserWarning: `model.predict_classes()` is deprecated and will be removed after 2021-01-01. Please use instead:* `np.argmax(model.predict(x), axis=-1)`,   if your model does multi-class classification   (e.g. if it uses a `softmax` last-layer activation).* `(model.predict(x) > 0.5).astype(\"int32\")`,   if your model does binary classification   (e.g. if it uses a `sigmoid` last-layer activation).\n",
      "  warnings.warn('`model.predict_classes()` is deprecated and '\n"
     ]
    },
    {
     "name": "stdout",
     "output_type": "stream",
     "text": [
      "[[0]]\n"
     ]
    },
    {
     "data": {
      "image/png": "[encoded data removed]",
      "text/plain": [
       "<Figure size 432x288 with 1 Axes>"
      ]
     },
     "metadata": {
      "needs_background": "light"
     },
     "output_type": "display_data"
    }
   ],
   "source": [
    "zplane = 42\n",
    "#interpolation = 'bessel'\n",
    "predictImage('F:/Research/Test/multi_lead_constrained_none_img{}.png'.format(zplane))\n",
    "#predictImage(r'F:/Research/val/{}_img{}.png'.format(interpolation,pre_image))"
   ]
  },
  {
   "cell_type": "code",
   "execution_count": 29,
   "metadata": {},
   "outputs": [],
   "source": [
    "def getFocus(filename):\n",
    "    img1 = image.load_img(filename,target_size=(150,150))\n",
    "    \n",
    "    z = int(filename.split(\"_img\")[-1].split(\".\")[0])\n",
    "    f = filename.split(\"_img\")\n",
    "   # plt.imshow(img1)\n",
    "     \n",
    "    Y = image.img_to_array(img1)/255\n",
    "\n",
    "    X = np.expand_dims(Y,axis=0)\n",
    "    \n",
    "    val = model.predict_classes(X)\n",
    "    print(z)\n",
    "    print(f)\n",
    "    if val == 0:\n",
    "        return \"infocus\", z\n",
    "    #    plt.xlabel(\"infocus\",fontsize=30)\n",
    "        \n",
    "    \n",
    "    elif val == 1:\n",
    "        return \"outfocus\", z\n",
    "        #plt.xlabel(\"outfocus\",fontsize=30)#\n",
    "    ''''\n",
    "    else:\n",
    "        return \"confused\", z\n",
    "    '''"
   ]
  },
  {
   "cell_type": "code",
   "execution_count": 30,
   "metadata": {
    "scrolled": true
   },
   "outputs": [
    {
     "name": "stdout",
     "output_type": "stream",
     "text": [
      "2\n",
      "['F:/Research/Test\\\\multi_lead_constrained_none', '2.png']\n",
      "3\n",
      "['F:/Research/Test\\\\multi_lead_constrained_none', '3.png']\n",
      "4\n",
      "['F:/Research/Test\\\\multi_lead_constrained_none', '4.png']\n",
      "5\n",
      "['F:/Research/Test\\\\multi_lead_constrained_none', '5.png']\n",
      "6\n",
      "['F:/Research/Test\\\\multi_lead_constrained_none', '6.png']\n",
      "7\n",
      "['F:/Research/Test\\\\multi_lead_constrained_none', '7.png']\n",
      "8\n",
      "['F:/Research/Test\\\\multi_lead_constrained_none', '8.png']\n",
      "9\n",
      "['F:/Research/Test\\\\multi_lead_constrained_none', '9.png']\n",
      "10\n",
      "['F:/Research/Test\\\\multi_lead_constrained_none', '10.png']\n",
      "11\n",
      "['F:/Research/Test\\\\multi_lead_constrained_none', '11.png']\n",
      "12\n",
      "['F:/Research/Test\\\\multi_lead_constrained_none', '12.png']\n",
      "13\n",
      "['F:/Research/Test\\\\multi_lead_constrained_none', '13.png']\n",
      "14\n",
      "['F:/Research/Test\\\\multi_lead_constrained_none', '14.png']\n",
      "15\n",
      "['F:/Research/Test\\\\multi_lead_constrained_none', '15.png']\n",
      "16\n",
      "['F:/Research/Test\\\\multi_lead_constrained_none', '16.png']\n",
      "17\n",
      "['F:/Research/Test\\\\multi_lead_constrained_none', '17.png']\n",
      "18\n",
      "['F:/Research/Test\\\\multi_lead_constrained_none', '18.png']\n",
      "19\n",
      "['F:/Research/Test\\\\multi_lead_constrained_none', '19.png']\n",
      "20\n",
      "['F:/Research/Test\\\\multi_lead_constrained_none', '20.png']\n",
      "21\n",
      "['F:/Research/Test\\\\multi_lead_constrained_none', '21.png']\n",
      "22\n",
      "['F:/Research/Test\\\\multi_lead_constrained_none', '22.png']\n",
      "23\n",
      "['F:/Research/Test\\\\multi_lead_constrained_none', '23.png']\n",
      "24\n",
      "['F:/Research/Test\\\\multi_lead_constrained_none', '24.png']\n",
      "25\n",
      "['F:/Research/Test\\\\multi_lead_constrained_none', '25.png']\n",
      "26\n",
      "['F:/Research/Test\\\\multi_lead_constrained_none', '26.png']\n",
      "27\n",
      "['F:/Research/Test\\\\multi_lead_constrained_none', '27.png']\n",
      "28\n",
      "['F:/Research/Test\\\\multi_lead_constrained_none', '28.png']\n",
      "29\n",
      "['F:/Research/Test\\\\multi_lead_constrained_none', '29.png']\n",
      "30\n",
      "['F:/Research/Test\\\\multi_lead_constrained_none', '30.png']\n",
      "31\n",
      "['F:/Research/Test\\\\multi_lead_constrained_none', '31.png']\n",
      "32\n",
      "['F:/Research/Test\\\\multi_lead_constrained_none', '32.png']\n",
      "33\n",
      "['F:/Research/Test\\\\multi_lead_constrained_none', '33.png']\n",
      "34\n",
      "['F:/Research/Test\\\\multi_lead_constrained_none', '34.png']\n",
      "35\n",
      "['F:/Research/Test\\\\multi_lead_constrained_none', '35.png']\n",
      "36\n",
      "['F:/Research/Test\\\\multi_lead_constrained_none', '36.png']\n",
      "37\n",
      "['F:/Research/Test\\\\multi_lead_constrained_none', '37.png']\n",
      "38\n",
      "['F:/Research/Test\\\\multi_lead_constrained_none', '38.png']\n",
      "39\n",
      "['F:/Research/Test\\\\multi_lead_constrained_none', '39.png']\n",
      "40\n",
      "['F:/Research/Test\\\\multi_lead_constrained_none', '40.png']\n",
      "41\n",
      "['F:/Research/Test\\\\multi_lead_constrained_none', '41.png']\n",
      "42\n",
      "['F:/Research/Test\\\\multi_lead_constrained_none', '42.png']\n",
      "43\n",
      "['F:/Research/Test\\\\multi_lead_constrained_none', '43.png']\n",
      "44\n",
      "['F:/Research/Test\\\\multi_lead_constrained_none', '44.png']\n",
      "45\n",
      "['F:/Research/Test\\\\multi_lead_constrained_none', '45.png']\n",
      "46\n",
      "['F:/Research/Test\\\\multi_lead_constrained_none', '46.png']\n",
      "47\n",
      "['F:/Research/Test\\\\multi_lead_constrained_none', '47.png']\n",
      "48\n",
      "['F:/Research/Test\\\\multi_lead_constrained_none', '48.png']\n",
      "49\n",
      "['F:/Research/Test\\\\multi_lead_constrained_none', '49.png']\n",
      "50\n",
      "['F:/Research/Test\\\\multi_lead_constrained_none', '50.png']\n",
      "51\n",
      "['F:/Research/Test\\\\multi_lead_constrained_none', '51.png']\n",
      "52\n",
      "['F:/Research/Test\\\\multi_lead_constrained_none', '52.png']\n",
      "53\n",
      "['F:/Research/Test\\\\multi_lead_constrained_none', '53.png']\n",
      "54\n",
      "['F:/Research/Test\\\\multi_lead_constrained_none', '54.png']\n",
      "55\n",
      "['F:/Research/Test\\\\multi_lead_constrained_none', '55.png']\n",
      "56\n",
      "['F:/Research/Test\\\\multi_lead_constrained_none', '56.png']\n",
      "57\n",
      "['F:/Research/Test\\\\multi_lead_constrained_none', '57.png']\n",
      "58\n",
      "['F:/Research/Test\\\\multi_lead_constrained_none', '58.png']\n",
      "59\n",
      "['F:/Research/Test\\\\multi_lead_constrained_none', '59.png']\n",
      "60\n",
      "['F:/Research/Test\\\\multi_lead_constrained_none', '60.png']\n",
      "61\n",
      "['F:/Research/Test\\\\multi_lead_constrained_none', '61.png']\n",
      "62\n",
      "['F:/Research/Test\\\\multi_lead_constrained_none', '62.png']\n",
      "63\n",
      "['F:/Research/Test\\\\multi_lead_constrained_none', '63.png']\n",
      "64\n",
      "['F:/Research/Test\\\\multi_lead_constrained_none', '64.png']\n",
      "65\n",
      "['F:/Research/Test\\\\multi_lead_constrained_none', '65.png']\n",
      "66\n",
      "['F:/Research/Test\\\\multi_lead_constrained_none', '66.png']\n",
      "67\n",
      "['F:/Research/Test\\\\multi_lead_constrained_none', '67.png']\n",
      "68\n",
      "['F:/Research/Test\\\\multi_lead_constrained_none', '68.png']\n",
      "69\n",
      "['F:/Research/Test\\\\multi_lead_constrained_none', '69.png']\n",
      "70\n",
      "['F:/Research/Test\\\\multi_lead_constrained_none', '70.png']\n",
      "71\n",
      "['F:/Research/Test\\\\multi_lead_constrained_none', '71.png']\n",
      "72\n",
      "['F:/Research/Test\\\\multi_lead_constrained_none', '72.png']\n",
      "73\n",
      "['F:/Research/Test\\\\multi_lead_constrained_none', '73.png']\n",
      "74\n",
      "['F:/Research/Test\\\\multi_lead_constrained_none', '74.png']\n",
      "75\n",
      "['F:/Research/Test\\\\multi_lead_constrained_none', '75.png']\n",
      "76\n",
      "['F:/Research/Test\\\\multi_lead_constrained_none', '76.png']\n",
      "77\n",
      "['F:/Research/Test\\\\multi_lead_constrained_none', '77.png']\n",
      "78\n",
      "['F:/Research/Test\\\\multi_lead_constrained_none', '78.png']\n",
      "79\n",
      "['F:/Research/Test\\\\multi_lead_constrained_none', '79.png']\n",
      "80\n",
      "['F:/Research/Test\\\\multi_lead_constrained_none', '80.png']\n",
      "81\n",
      "['F:/Research/Test\\\\multi_lead_constrained_none', '81.png']\n",
      "82\n",
      "['F:/Research/Test\\\\multi_lead_constrained_none', '82.png']\n",
      "83\n",
      "['F:/Research/Test\\\\multi_lead_constrained_none', '83.png']\n",
      "84\n",
      "['F:/Research/Test\\\\multi_lead_constrained_none', '84.png']\n",
      "85\n",
      "['F:/Research/Test\\\\multi_lead_constrained_none', '85.png']\n",
      "86\n",
      "['F:/Research/Test\\\\multi_lead_constrained_none', '86.png']\n",
      "87\n",
      "['F:/Research/Test\\\\multi_lead_constrained_none', '87.png']\n",
      "88\n",
      "['F:/Research/Test\\\\multi_lead_constrained_none', '88.png']\n",
      "89\n",
      "['F:/Research/Test\\\\multi_lead_constrained_none', '89.png']\n",
      "90\n",
      "['F:/Research/Test\\\\multi_lead_constrained_none', '90.png']\n",
      "91\n",
      "['F:/Research/Test\\\\multi_lead_constrained_none', '91.png']\n",
      "92\n",
      "['F:/Research/Test\\\\multi_lead_constrained_none', '92.png']\n",
      "93\n",
      "['F:/Research/Test\\\\multi_lead_constrained_none', '93.png']\n",
      "94\n",
      "['F:/Research/Test\\\\multi_lead_constrained_none', '94.png']\n",
      "95\n",
      "['F:/Research/Test\\\\multi_lead_constrained_none', '95.png']\n",
      "96\n",
      "['F:/Research/Test\\\\multi_lead_constrained_none', '96.png']\n",
      "97\n",
      "['F:/Research/Test\\\\multi_lead_constrained_none', '97.png']\n",
      "98\n",
      "['F:/Research/Test\\\\multi_lead_constrained_none', '98.png']\n",
      "99\n",
      "['F:/Research/Test\\\\multi_lead_constrained_none', '99.png']\n",
      "100\n",
      "['F:/Research/Test\\\\multi_lead_constrained_none', '100.png']\n",
      "101\n",
      "['F:/Research/Test\\\\multi_lead_constrained_none', '101.png']\n",
      "102\n",
      "['F:/Research/Test\\\\multi_lead_constrained_none', '102.png']\n",
      "103\n",
      "['F:/Research/Test\\\\multi_lead_constrained_none', '103.png']\n",
      "104\n",
      "['F:/Research/Test\\\\multi_lead_constrained_none', '104.png']\n"
     ]
    }
   ],
   "source": [
    "direc = \"F:/Research/Test\"\n",
    "\n",
    "import glob\n",
    "\n",
    "focus_label = []\n",
    "z_plane = []\n",
    "files = sorted(glob.glob(direc+\"/*png\"),key=lambda name: int(name.split(\"_img\")[-1].split(\".\")[0]))\n",
    "#files.sort()\n",
    "\n",
    "for pic in files:\n",
    "    f, z = getFocus(pic)\n",
    "    focus_label.append(f)\n",
    "    z_plane.append(z)\n",
    "\n",
    "#print(focus_label)"
   ]
  },
  {
   "cell_type": "code",
   "execution_count": 31,
   "metadata": {},
   "outputs": [
    {
     "data": {
      "image/png": "[encoded data removed]",
      "text/plain": [
       "<Figure size 1296x576 with 1 Axes>"
      ]
     },
     "metadata": {
      "needs_background": "light"
     },
     "output_type": "display_data"
    }
   ],
   "source": [
    "plt.figure(figsize=(18,8))\n",
    "plt.scatter(z_plane, focus_label)\n",
    "plt.show()"
   ]
  },
  {
   "cell_type": "code",
   "execution_count": 32,
   "metadata": {},
   "outputs": [],
   "source": [
    "\n",
    "def load_image(filename):\n",
    "    img1 = image.load_img(filename,target_size=(150,150))\n",
    "    \n",
    "    z = int(filename.split(\"_img\")[-1].split(\".\")[0])\n",
    "\n",
    "   # plt.imshow(img1)\n",
    " \n",
    "    Y = image.img_to_array(img1)/255\n",
    "\n",
    "    X = np.expand_dims(Y,axis=0)\n",
    "    \n",
    "    val.append(model.predict(X))\n",
    "    z_plane.append(z)\n",
    "    \n",
    "    vaL_z_dict = dict(zip(z_plane,val)) \n",
    "    \n",
    "    return vaL_z_dict\n",
    "    "
   ]
  },
  {
   "cell_type": "code",
   "execution_count": 33,
   "metadata": {},
   "outputs": [],
   "source": [
    "def get_best_image(filename):\n",
    "    \n",
    "    def load_image(filename):\n",
    "        img1 = image.load_img(filename,target_size=(150,150))\n",
    "\n",
    "        z = int(filename.split(\"_img\")[-1].split(\".\")[0])\n",
    "       # plt.imshow(img1)\n",
    "\n",
    "        Y = image.img_to_array(img1)/255\n",
    "\n",
    "        X = np.expand_dims(Y,axis=0)\n",
    "\n",
    "        val.append(model.predict(X))\n",
    "        z_plane.append(z)\n",
    "\n",
    "        vaL_z_dict = dict(zip(z_plane,val)) \n",
    "\n",
    "        return vaL_z_dict\n",
    "\n",
    "    val = []\n",
    "    z_plane = []\n",
    "    vaL_z_dict = {}\n",
    "    files = sorted(glob.glob(direc+\"/*png\"),key=lambda name: int(name.split(\"_img\")[-1].split(\".\")[0]))\n",
    "      \n",
    "    for pic in files:\n",
    "        val_z_dict = load_image(pic)\n",
    "        \n",
    "    best_pic = min(val_z_dict,key=val_z_dict.get)\n",
    "    print('z='+str(best_pic))\n",
    "    return best_pic\n",
    "    "
   ]
  },
  {
   "cell_type": "code",
   "execution_count": 34,
   "metadata": {},
   "outputs": [
    {
     "name": "stdout",
     "output_type": "stream",
     "text": [
      "z=50\n"
     ]
    },
    {
     "data": {
      "text/plain": [
       "50"
      ]
     },
     "execution_count": 34,
     "metadata": {},
     "output_type": "execute_result"
    }
   ],
   "source": [
    "get_best_image(direc)"
   ]
  },
  {
   "cell_type": "code",
   "execution_count": 107,
   "metadata": {},
   "outputs": [],
   "source": [
    "def get_number_of_obj(filename):\n",
    "    \n",
    "    focus_label = []\n",
    "    z_plane = []\n",
    "    i = 0\n",
    "    files = sorted(glob.glob(direc+\"/*png\"),key=lambda name: int(name.split(\"_img\")[-1].split(\".\")[0]))\n",
    "    checker =[]\n",
    "   \n",
    "    def getFocus(filename):\n",
    "        img1 = image.load_img(filename,target_size=(150,150))\n",
    "\n",
    "        z = int(filename.split(\"_img\")[-1].split(\".\")[0])\n",
    "\n",
    "\n",
    "        Y = image.img_to_array(img1)/255\n",
    "\n",
    "        X = np.expand_dims(Y,axis=0)\n",
    "\n",
    "        val = model.predict_classes(X)\n",
    "        \n",
    "        if val == 0:\n",
    "            return \"infocus\", z\n",
    "        \n",
    "    \n",
    "        elif val == 1:\n",
    "            return \"outfocus\", z\n",
    "            \n",
    "    \n",
    "    for pic in files:\n",
    "        f, z = getFocus(pic)\n",
    "        focus_label.append(f)\n",
    "        z_plane.append(z)\n",
    "    #print(focus_label)\n",
    "    \n",
    "    three_split = np.array_split(focus_label,10)\n",
    "    number_of_objects = 0\n",
    "    \n",
    "    \n",
    "    for i in range(len(three_split)):\n",
    "        globals()['focus'+str(i)] = 0\n",
    "        globals()['focus'+str(i)] = three_split[i]\n",
    "        #print(globals()['focus'+str(i)])\n",
    "        \n",
    "\n",
    "    \n",
    "    for k in range(len(three_split)):\n",
    "        tally = Counter(globals()['focus'+str(k)])\n",
    "        checker.append(tally)\n",
    "        try:\n",
    "            if tally.most_common()[0][1] >=6 and tally.most_common()[0][0] == 'infocus' or tally.most_common()[1][1] >=6 and tally.most_common()[1][0] == 'infocus':\n",
    "                print(tally.most_common()[0])\n",
    "                number_of_objects+=1\n",
    "        except:\n",
    "            pass\n",
    "        \n",
    "        if checker[k] == checker[k-1] and test[k]['infocus'] >= 10  and checker[k-1]['infocus'] >=10 :\n",
    "            #print('ok')\n",
    "            number_of_objects-=1\n",
    "    \n",
    "    print('Number of objects = '+str(number_obj))\n",
    "    \n",
    "    return number_of_objects"
   ]
  },
  {
   "cell_type": "code",
   "execution_count": 109,
   "metadata": {},
   "outputs": [
    {
     "name": "stdout",
     "output_type": "stream",
     "text": [
      "('infocus', 10)\n",
      "('infocus', 9)\n",
      "Number of objects = 2\n"
     ]
    }
   ],
   "source": [
    "number_obj = get_number_of_obj(direc)"
   ]
  },
  {
   "cell_type": "code",
   "execution_count": null,
   "metadata": {},
   "outputs": [],
   "source": []
  }
 ],
 "metadata": {
  "kernelspec": {
   "display_name": "Python 3",
   "language": "python",
   "name": "python3"
  },
  "language_info": {
   "codemirror_mode": {
    "name": "ipython",
    "version": 3
   },
   "file_extension": ".py",
   "mimetype": "text/x-python",
   "name": "python",
   "nbconvert_exporter": "python",
   "pygments_lexer": "ipython3",
   "version": "3.8.3"
  }
 },
 "nbformat": 4,
 "nbformat_minor": 4
}

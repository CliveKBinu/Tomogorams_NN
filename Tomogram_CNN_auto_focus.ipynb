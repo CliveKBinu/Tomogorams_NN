{
 "cells": [
  {
   "cell_type": "code",
   "execution_count": 1,
   "metadata": {},
   "outputs": [],
   "source": [
    "import matplotlib.pyplot as plt\n",
    "import numpy as np\n",
    "import os\n",
    "import PIL\n",
    "import tensorflow as tf\n",
    "\n",
    "from tensorflow import keras\n",
    "from tensorflow.keras import layers\n",
    "from tensorflow.keras.models import Sequential\n",
    "from tensorflow.keras.preprocessing.image import ImageDataGenerator\n",
    "from tensorflow.keras.preprocessing import image\n"
   ]
  },
  {
   "cell_type": "code",
   "execution_count": 2,
   "metadata": {},
   "outputs": [
    {
     "name": "stdout",
     "output_type": "stream",
     "text": [
      "Found 6868 images belonging to 2 classes.\n",
      "Found 103 images belonging to 2 classes.\n"
     ]
    }
   ],
   "source": [
    "generator = ImageDataGenerator(rescale=1/255)\n",
    "\n",
    "#generator = ImageDataGenerator(rescale=1/255)\n",
    "\n",
    "#Test_generator = ImageDataGenerator()\n",
    "\n",
    "\n",
    "IMAGE_WIDTH=IMAGE_HEIGHT=150\n",
    "\n",
    "train_dataset = generator.flow_from_directory(\"F:/Research/Tomograms interpolation\",\n",
    "                                          target_size=(150,150),\n",
    "                                          batch_size = 32,\n",
    "                                          #color_mode = 'rgb',\n",
    "                                          class_mode = 'categorical',\n",
    "                                          subset = 'training',\n",
    "                                          shuffle=True,\n",
    "                                          seed = 42\n",
    "                                         )\n",
    "                                   \n",
    "val_dataset = generator.flow_from_directory(\"F:/Research/val\",\n",
    "                                          target_size=(150,150),\n",
    "                                          batch_size =32,\n",
    "                                          #color_mode = 'rgb',\n",
    "                                          #subset = 'validation',\n",
    "                                          class_mode = 'categorical')\n",
    "\n",
    "#Test_dataset = Test_generator.flow_from_directory('F:/Research/val',target_size=(150,150))\n"
   ]
  },
  {
   "cell_type": "code",
   "execution_count": 3,
   "metadata": {},
   "outputs": [
    {
     "name": "stdout",
     "output_type": "stream",
     "text": [
      "{'infocus': 0, 'outfocus': 1}\n"
     ]
    }
   ],
   "source": [
    "print(train_dataset.class_indices)"
   ]
  },
  {
   "cell_type": "code",
   "execution_count": 4,
   "metadata": {},
   "outputs": [],
   "source": [
    "num_classes = 2\n",
    "from tensorflow.keras.models import Sequential\n",
    "\n",
    "\n",
    "\n",
    "img_height=img_width=150\n",
    "\n",
    "\n",
    "model = Sequential([\n",
    "    layers.experimental.preprocessing.RandomFlip(\"horizontal\", \n",
    "                                                 input_shape=(img_height, \n",
    "                                                              img_width,\n",
    "                                                              3)),\n",
    "    layers.experimental.preprocessing.RandomRotation(0.1),\n",
    "    layers.experimental.preprocessing.RandomZoom(0.1),\n",
    "  ])\n",
    "\n",
    "model.add(keras.layers.Conv2D(32,(3,3),activation='relu',input_shape=(150,150,3)))\n",
    "model.add(keras.layers.MaxPool2D(2,2))\n",
    "\n",
    "# Convolutional layer and maxpool layer 2\n",
    "model.add(keras.layers.Conv2D(64,(3,3),activation='relu'))\n",
    "model.add(keras.layers.MaxPool2D(2,2))\n",
    "\n",
    "# Convolutional layer and maxpool layer 3\n",
    "model.add(keras.layers.Conv2D(128,(3,3),activation='relu'))\n",
    "model.add(keras.layers.MaxPool2D(2,2))\n",
    "\n",
    "# Convolutional layer and maxpool layer 4\n",
    "#model.add(keras.layers.Conv2D(128,(3,3),activation='relu'))\n",
    "#model.add(keras.layers.MaxPool2D(2,2))\n",
    "\n",
    "# This layer flattens the resulting image array to 1D array\n",
    "model.add(keras.layers.Flatten())\n",
    "\n",
    "# Hidden layer with 512 neurons and Rectified Linear Unit activation function \n",
    "model.add(keras.layers.Dense(218,activation='relu'))\n",
    "\n",
    "# Output layer with single neuron which gives 0 for Cat or 1 for Dog \n",
    "#Here we use sigmoid activation function which makes our model output to lie between 0 and 1\n",
    "model.add(keras.layers.Dense(2,activation='softmax'))"
   ]
  },
  {
   "cell_type": "code",
   "execution_count": 5,
   "metadata": {},
   "outputs": [
    {
     "name": "stdout",
     "output_type": "stream",
     "text": [
      "Model: \"sequential\"\n",
      "_________________________________________________________________\n",
      "Layer (type)                 Output Shape              Param #   \n",
      "=================================================================\n",
      "random_flip (RandomFlip)     (None, 150, 150, 3)       0         \n",
      "_________________________________________________________________\n",
      "random_rotation (RandomRotat (None, 150, 150, 3)       0         \n",
      "_________________________________________________________________\n",
      "random_zoom (RandomZoom)     (None, 150, 150, 3)       0         \n",
      "_________________________________________________________________\n",
      "conv2d (Conv2D)              (None, 148, 148, 32)      896       \n",
      "_________________________________________________________________\n",
      "max_pooling2d (MaxPooling2D) (None, 74, 74, 32)        0         \n",
      "_________________________________________________________________\n",
      "conv2d_1 (Conv2D)            (None, 72, 72, 64)        18496     \n",
      "_________________________________________________________________\n",
      "max_pooling2d_1 (MaxPooling2 (None, 36, 36, 64)        0         \n",
      "_________________________________________________________________\n",
      "conv2d_2 (Conv2D)            (None, 34, 34, 128)       73856     \n",
      "_________________________________________________________________\n",
      "max_pooling2d_2 (MaxPooling2 (None, 17, 17, 128)       0         \n",
      "_________________________________________________________________\n",
      "flatten (Flatten)            (None, 36992)             0         \n",
      "_________________________________________________________________\n",
      "dense (Dense)                (None, 218)               8064474   \n",
      "_________________________________________________________________\n",
      "dense_1 (Dense)              (None, 2)                 438       \n",
      "=================================================================\n",
      "Total params: 8,158,160\n",
      "Trainable params: 8,158,160\n",
      "Non-trainable params: 0\n",
      "_________________________________________________________________\n"
     ]
    }
   ],
   "source": [
    "model.summary()"
   ]
  },
  {
   "cell_type": "code",
   "execution_count": 6,
   "metadata": {},
   "outputs": [],
   "source": [
    "model.compile(optimizer='adam',\n",
    "              loss='binary_crossentropy',\n",
    "              metrics=['accuracy'])"
   ]
  },
  {
   "cell_type": "code",
   "execution_count": 7,
   "metadata": {},
   "outputs": [
    {
     "name": "stdout",
     "output_type": "stream",
     "text": [
      "Epoch 1/10\n",
      "215/215 [==============================] - 55s 239ms/step - loss: 0.2541 - accuracy: 0.8874 - val_loss: 0.3015 - val_accuracy: 0.8155\n",
      "Epoch 2/10\n",
      "215/215 [==============================] - 50s 234ms/step - loss: 0.1896 - accuracy: 0.9139 - val_loss: 0.3089 - val_accuracy: 0.8350\n",
      "Epoch 3/10\n",
      "215/215 [==============================] - 52s 243ms/step - loss: 0.1485 - accuracy: 0.9329 - val_loss: 0.3145 - val_accuracy: 0.8738\n",
      "Epoch 4/10\n",
      "215/215 [==============================] - 52s 240ms/step - loss: 0.1245 - accuracy: 0.9482 - val_loss: 0.3945 - val_accuracy: 0.8155\n",
      "Epoch 5/10\n",
      "215/215 [==============================] - 51s 237ms/step - loss: 0.1150 - accuracy: 0.9480 - val_loss: 0.3714 - val_accuracy: 0.8544\n",
      "Epoch 6/10\n",
      "215/215 [==============================] - 51s 236ms/step - loss: 0.1080 - accuracy: 0.9531 - val_loss: 0.4216 - val_accuracy: 0.8447\n",
      "Epoch 7/10\n",
      "215/215 [==============================] - 51s 235ms/step - loss: 0.0941 - accuracy: 0.9635 - val_loss: 0.3831 - val_accuracy: 0.8155\n",
      "Epoch 8/10\n",
      "215/215 [==============================] - 50s 233ms/step - loss: 0.0845 - accuracy: 0.9664 - val_loss: 0.4568 - val_accuracy: 0.7864\n",
      "Epoch 9/10\n",
      "215/215 [==============================] - 50s 234ms/step - loss: 0.0753 - accuracy: 0.9696 - val_loss: 0.4747 - val_accuracy: 0.7961\n",
      "Epoch 10/10\n",
      "215/215 [==============================] - 49s 226ms/step - loss: 0.0696 - accuracy: 0.9723 - val_loss: 0.5127 - val_accuracy: 0.8155\n"
     ]
    }
   ],
   "source": [
    "epochs = 10\n",
    "history = model.fit(\n",
    "  train_dataset,\n",
    "  validation_data=val_dataset,\n",
    "  epochs=epochs\n",
    ")"
   ]
  },
  {
   "cell_type": "code",
   "execution_count": 8,
   "metadata": {},
   "outputs": [],
   "source": [
    "acc = history.history['accuracy']\n",
    "val_acc = history.history['val_accuracy']\n",
    "\n",
    "loss = history.history['loss']\n",
    "val_loss = history.history['val_loss']\n",
    "\n",
    "epochs_range = range(epochs)\n"
   ]
  },
  {
   "cell_type": "code",
   "execution_count": 9,
   "metadata": {},
   "outputs": [
    {
     "data": {
      "image/png": "[encoded data removed]",
      "text/plain": [
       "<Figure size 1152x576 with 2 Axes>"
      ]
     },
     "metadata": {
      "needs_background": "light"
     },
     "output_type": "display_data"
    }
   ],
   "source": [
    "plt.figure(figsize=(16, 8))\n",
    "plt.subplot(1, 2, 1)\n",
    "plt.plot(epochs_range, acc, label='Training Accuracy')\n",
    "plt.plot(epochs_range, val_acc, label='Validation Accuracy')\n",
    "plt.legend(loc='lower right')\n",
    "plt.title('Training and Validation Accuracy')\n",
    "\n",
    "plt.subplot(1, 2, 2)\n",
    "plt.plot(epochs_range, loss, label='Training Loss')\n",
    "plt.plot(epochs_range, val_loss, label='Validation Loss')\n",
    "plt.legend(loc='upper right')\n",
    "plt.title('Training and Validation Loss')\n",
    "plt.show()"
   ]
  },
  {
   "cell_type": "code",
   "execution_count": 10,
   "metadata": {},
   "outputs": [],
   "source": [
    "\n",
    "from tensorflow.keras.applications.imagenet_utils import decode_predictions\n",
    "\n",
    "def predictImage(filename):\n",
    "    img1 = image.load_img(filename,target_size=(150,150))\n",
    "    \n",
    "    plt.imshow(img1)\n",
    "    \n",
    "    #Y = image.img_to_array(img1)/255\n",
    "     \n",
    "    Y = image.img_to_array(img1)\n",
    "\n",
    "    X = np.expand_dims(Y,axis=0)\n",
    "    \n",
    "    val = model.predict_proba(X)\n",
    "    #val = np.argmax(model.predict(X), axis=-1)\n",
    "    #decode_predictions(val)[0]\n",
    "    print(val)\n",
    "    '''\n",
    "    if val[0][1] == 0:\n",
    "        \n",
    "        plt.xlabel(\"infocus\",fontsize=30)\n",
    "        \n",
    "    \n",
    "    elif val[0][1] == 1:\n",
    "        \n",
    "        plt.xlabel(\"outfocus\",fontsize=30)\n",
    "    '''"
   ]
  },
  {
   "cell_type": "code",
   "execution_count": 11,
   "metadata": {},
   "outputs": [
    {
     "name": "stderr",
     "output_type": "stream",
     "text": [
      "c:\\users\\clive\\appdata\\local\\programs\\python\\python38\\lib\\site-packages\\tensorflow\\python\\keras\\engine\\sequential.py:430: UserWarning: `model.predict_proba()` is deprecated and will be removed after 2021-01-01. Please use `model.predict()` instead.\n",
      "  warnings.warn('`model.predict_proba()` is deprecated and '\n"
     ]
    },
    {
     "name": "stdout",
     "output_type": "stream",
     "text": [
      "[[0. 1.]]\n"
     ]
    },
    {
     "data": {
      "image/png": "[encoded data removed]",
      "text/plain": [
       "<Figure size 432x288 with 1 Axes>"
      ]
     },
     "metadata": {
      "needs_background": "light"
     },
     "output_type": "display_data"
    }
   ],
   "source": [
    "zplane = 80\n",
    "#interpolation = 'bessel'\n",
    "predictImage('F:/Research/Test/multi_lead_constrained_none_img{}.png'.format(zplane))\n",
    "#predictImage(r'F:/Research/val/{}_img{}.png'.format(interpolation,pre_image))"
   ]
  },
  {
   "cell_type": "code",
   "execution_count": 209,
   "metadata": {},
   "outputs": [],
   "source": [
    "def getFocus(filename):\n",
    "    img1 = image.load_img(filename,target_size=(150,150))\n",
    "    \n",
    "    z = int(filename.split(\"_img\")[-1].split(\".\")[0])\n",
    "   # plt.imshow(img1)\n",
    "     \n",
    "    Y = image.img_to_array(img1)\n",
    "\n",
    "    X = np.expand_dims(Y,axis=0)\n",
    "    \n",
    "    val = model.predict(X)\n",
    "    print(z)\n",
    "    if val[0][1] == 0:\n",
    "        return \"infocus\", z\n",
    "    #    plt.xlabel(\"infocus\",fontsize=30)\n",
    "        \n",
    "    \n",
    "    elif val[0][1] == 1:\n",
    "        return \"outfocus\", z\n",
    "        #plt.xlabel(\"outfocus\",fontsize=30)#\n",
    "    \n",
    "    else:\n",
    "        return \"confused\", z"
   ]
  },
  {
   "cell_type": "code",
   "execution_count": 210,
   "metadata": {
    "scrolled": true
   },
   "outputs": [
    {
     "name": "stdout",
     "output_type": "stream",
     "text": [
      "10\n",
      "100\n",
      "101\n",
      "102\n",
      "103\n",
      "104\n",
      "11\n",
      "12\n",
      "13\n",
      "14\n",
      "15\n",
      "16\n",
      "17\n",
      "18\n",
      "19\n",
      "2\n",
      "20\n",
      "21\n",
      "22\n",
      "23\n",
      "24\n",
      "25\n",
      "26\n",
      "27\n",
      "28\n",
      "29\n",
      "3\n",
      "30\n",
      "31\n",
      "32\n",
      "33\n",
      "34\n",
      "35\n",
      "36\n",
      "37\n",
      "38\n",
      "39\n",
      "4\n",
      "40\n",
      "41\n",
      "42\n",
      "43\n",
      "44\n",
      "45\n",
      "46\n",
      "47\n",
      "48\n",
      "49\n",
      "5\n",
      "50\n",
      "51\n",
      "52\n",
      "53\n",
      "54\n",
      "55\n",
      "56\n",
      "57\n",
      "58\n",
      "59\n",
      "6\n",
      "60\n",
      "61\n",
      "62\n",
      "63\n",
      "64\n",
      "65\n",
      "66\n",
      "67\n",
      "68\n",
      "69\n",
      "7\n",
      "70\n",
      "71\n",
      "72\n",
      "73\n",
      "74\n",
      "75\n",
      "76\n",
      "77\n",
      "78\n",
      "79\n",
      "8\n",
      "80\n",
      "81\n",
      "82\n",
      "83\n",
      "84\n",
      "85\n",
      "86\n",
      "87\n",
      "88\n",
      "89\n",
      "9\n",
      "90\n",
      "91\n",
      "92\n",
      "93\n",
      "94\n",
      "95\n",
      "96\n",
      "97\n",
      "98\n",
      "99\n"
     ]
    }
   ],
   "source": [
    "direc = \"F:/Research/Test\"\n",
    "\n",
    "import glob\n",
    "\n",
    "focus_label = []\n",
    "z_plane = []\n",
    "\n",
    "for pic in glob.glob(direc+\"/*png\"):\n",
    "    f, z = getFocus(pic)\n",
    "    focus_label.append(f)\n",
    "    z_plane.append(z)"
   ]
  },
  {
   "cell_type": "code",
   "execution_count": 211,
   "metadata": {},
   "outputs": [
    {
     "data": {
      "image/png": "[encoded data removed]",
      "text/plain": [
       "<Figure size 1296x576 with 1 Axes>"
      ]
     },
     "metadata": {
      "needs_background": "light"
     },
     "output_type": "display_data"
    }
   ],
   "source": [
    "plt.figure(figsize=(18,8))\n",
    "plt.scatter(z_plane, focus_label)\n",
    "plt.show()"
   ]
  },
  {
   "cell_type": "code",
   "execution_count": 20,
   "metadata": {},
   "outputs": [],
   "source": [
    "val = []\n",
    "z_plane = []\n",
    "\n",
    "def get_best_image(filename):\n",
    "    img1 = image.load_img(filename,target_size=(150,150))\n",
    "    \n",
    "    z = int(filename.split(\"_img\")[-1].split(\".\")[0])\n",
    "   # plt.imshow(img1)\n",
    " \n",
    "    Y = image.img_to_array(img1)\n",
    "\n",
    "    X = np.expand_dims(Y,axis=0)\n",
    "    \n",
    "    val.append(model.predict(X))\n",
    "    z.append(z_plane)\n",
    "    \n",
    "    vaL_z_dict = dict(zip(z,val)) \n",
    "    \n",
    "    return val_z_dict\n",
    "    "
   ]
  },
  {
   "cell_type": "code",
   "execution_count": 212,
   "metadata": {},
   "outputs": [
    {
     "name": "stdout",
     "output_type": "stream",
     "text": [
      "Num GPUs Available:  1\n"
     ]
    }
   ],
   "source": [
    "print(\"Num GPUs Available: \", len(tf.config.list_physical_devices('GPU')))"
   ]
  },
  {
   "cell_type": "code",
   "execution_count": null,
   "metadata": {},
   "outputs": [],
   "source": []
  }
 ],
 "metadata": {
  "kernelspec": {
   "display_name": "Python 3",
   "language": "python",
   "name": "python3"
  },
  "language_info": {
   "codemirror_mode": {
    "name": "ipython",
    "version": 3
   },
   "file_extension": ".py",
   "mimetype": "text/x-python",
   "name": "python",
   "nbconvert_exporter": "python",
   "pygments_lexer": "ipython3",
   "version": "3.8.3"
  }
 },
 "nbformat": 4,
 "nbformat_minor": 4
}
